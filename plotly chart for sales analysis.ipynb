{
 "cells": [
  {
   "cell_type": "markdown",
   "id": "478859b5",
   "metadata": {},
   "source": [
    "## Import the necessary libraries"
   ]
  },
  {
   "cell_type": "code",
   "execution_count": 1,
   "id": "561a697b",
   "metadata": {},
   "outputs": [],
   "source": [
    "import pandas as pd\n",
    "import numpy as np"
   ]
  },
  {
   "cell_type": "markdown",
   "id": "476a741b",
   "metadata": {},
   "source": [
    "### Source data"
   ]
  },
  {
   "cell_type": "code",
   "execution_count": 2,
   "id": "87317505",
   "metadata": {},
   "outputs": [],
   "source": [
    "df=pd.read_csv(\"Sales Data.csv\")"
   ]
  },
  {
   "cell_type": "code",
   "execution_count": 3,
   "id": "8d6cd8cf",
   "metadata": {},
   "outputs": [
    {
     "data": {
      "text/html": [
       "<div>\n",
       "<style scoped>\n",
       "    .dataframe tbody tr th:only-of-type {\n",
       "        vertical-align: middle;\n",
       "    }\n",
       "\n",
       "    .dataframe tbody tr th {\n",
       "        vertical-align: top;\n",
       "    }\n",
       "\n",
       "    .dataframe thead th {\n",
       "        text-align: right;\n",
       "    }\n",
       "</style>\n",
       "<table border=\"1\" class=\"dataframe\">\n",
       "  <thead>\n",
       "    <tr style=\"text-align: right;\">\n",
       "      <th></th>\n",
       "      <th>Unnamed: 0</th>\n",
       "      <th>Order ID</th>\n",
       "      <th>Product</th>\n",
       "      <th>Quantity Ordered</th>\n",
       "      <th>Price Each</th>\n",
       "      <th>Order Date</th>\n",
       "      <th>Purchase Address</th>\n",
       "      <th>Month</th>\n",
       "      <th>Sales</th>\n",
       "      <th>City</th>\n",
       "      <th>Hour</th>\n",
       "    </tr>\n",
       "  </thead>\n",
       "  <tbody>\n",
       "    <tr>\n",
       "      <th>0</th>\n",
       "      <td>0</td>\n",
       "      <td>295665</td>\n",
       "      <td>Macbook Pro Laptop</td>\n",
       "      <td>1</td>\n",
       "      <td>1700.00</td>\n",
       "      <td>2019-12-30 00:01:00</td>\n",
       "      <td>136 Church St, New York City, NY 10001</td>\n",
       "      <td>12</td>\n",
       "      <td>1700.00</td>\n",
       "      <td>New York City</td>\n",
       "      <td>0</td>\n",
       "    </tr>\n",
       "    <tr>\n",
       "      <th>1</th>\n",
       "      <td>1</td>\n",
       "      <td>295666</td>\n",
       "      <td>LG Washing Machine</td>\n",
       "      <td>1</td>\n",
       "      <td>600.00</td>\n",
       "      <td>2019-12-29 07:03:00</td>\n",
       "      <td>562 2nd St, New York City, NY 10001</td>\n",
       "      <td>12</td>\n",
       "      <td>600.00</td>\n",
       "      <td>New York City</td>\n",
       "      <td>7</td>\n",
       "    </tr>\n",
       "    <tr>\n",
       "      <th>2</th>\n",
       "      <td>2</td>\n",
       "      <td>295667</td>\n",
       "      <td>USB-C Charging Cable</td>\n",
       "      <td>1</td>\n",
       "      <td>11.95</td>\n",
       "      <td>2019-12-12 18:21:00</td>\n",
       "      <td>277 Main St, New York City, NY 10001</td>\n",
       "      <td>12</td>\n",
       "      <td>11.95</td>\n",
       "      <td>New York City</td>\n",
       "      <td>18</td>\n",
       "    </tr>\n",
       "    <tr>\n",
       "      <th>3</th>\n",
       "      <td>3</td>\n",
       "      <td>295668</td>\n",
       "      <td>27in FHD Monitor</td>\n",
       "      <td>1</td>\n",
       "      <td>149.99</td>\n",
       "      <td>2019-12-22 15:13:00</td>\n",
       "      <td>410 6th St, San Francisco, CA 94016</td>\n",
       "      <td>12</td>\n",
       "      <td>149.99</td>\n",
       "      <td>San Francisco</td>\n",
       "      <td>15</td>\n",
       "    </tr>\n",
       "    <tr>\n",
       "      <th>4</th>\n",
       "      <td>4</td>\n",
       "      <td>295669</td>\n",
       "      <td>USB-C Charging Cable</td>\n",
       "      <td>1</td>\n",
       "      <td>11.95</td>\n",
       "      <td>2019-12-18 12:38:00</td>\n",
       "      <td>43 Hill St, Atlanta, GA 30301</td>\n",
       "      <td>12</td>\n",
       "      <td>11.95</td>\n",
       "      <td>Atlanta</td>\n",
       "      <td>12</td>\n",
       "    </tr>\n",
       "  </tbody>\n",
       "</table>\n",
       "</div>"
      ],
      "text/plain": [
       "   Unnamed: 0  Order ID               Product  Quantity Ordered  Price Each  \\\n",
       "0           0    295665    Macbook Pro Laptop                 1     1700.00   \n",
       "1           1    295666    LG Washing Machine                 1      600.00   \n",
       "2           2    295667  USB-C Charging Cable                 1       11.95   \n",
       "3           3    295668      27in FHD Monitor                 1      149.99   \n",
       "4           4    295669  USB-C Charging Cable                 1       11.95   \n",
       "\n",
       "            Order Date                        Purchase Address  Month  \\\n",
       "0  2019-12-30 00:01:00  136 Church St, New York City, NY 10001     12   \n",
       "1  2019-12-29 07:03:00     562 2nd St, New York City, NY 10001     12   \n",
       "2  2019-12-12 18:21:00    277 Main St, New York City, NY 10001     12   \n",
       "3  2019-12-22 15:13:00     410 6th St, San Francisco, CA 94016     12   \n",
       "4  2019-12-18 12:38:00           43 Hill St, Atlanta, GA 30301     12   \n",
       "\n",
       "     Sales            City  Hour  \n",
       "0  1700.00   New York City     0  \n",
       "1   600.00   New York City     7  \n",
       "2    11.95   New York City    18  \n",
       "3   149.99   San Francisco    15  \n",
       "4    11.95         Atlanta    12  "
      ]
     },
     "execution_count": 3,
     "metadata": {},
     "output_type": "execute_result"
    }
   ],
   "source": [
    "df.head()"
   ]
  },
  {
   "cell_type": "raw",
   "id": "aea4191f",
   "metadata": {},
   "source": [
    "unnamed  column is not necessary\n",
    "drop that column"
   ]
  },
  {
   "cell_type": "code",
   "execution_count": 4,
   "id": "85904b2f",
   "metadata": {},
   "outputs": [],
   "source": [
    "df.drop(columns=\"Unnamed: 0\",inplace=True)"
   ]
  },
  {
   "cell_type": "code",
   "execution_count": 5,
   "id": "3dd64c29",
   "metadata": {},
   "outputs": [
    {
     "data": {
      "text/plain": [
       "Order ID                                            295665\n",
       "Product                                 Macbook Pro Laptop\n",
       "Quantity Ordered                                         1\n",
       "Price Each                                          1700.0\n",
       "Order Date                             2019-12-30 00:01:00\n",
       "Purchase Address    136 Church St, New York City, NY 10001\n",
       "Month                                                   12\n",
       "Sales                                               1700.0\n",
       "City                                         New York City\n",
       "Hour                                                     0\n",
       "Name: 0, dtype: object"
      ]
     },
     "execution_count": 5,
     "metadata": {},
     "output_type": "execute_result"
    }
   ],
   "source": [
    "df.loc[0]"
   ]
  },
  {
   "cell_type": "markdown",
   "id": "f4eb9bde",
   "metadata": {},
   "source": [
    "### Shape of the data"
   ]
  },
  {
   "cell_type": "code",
   "execution_count": 6,
   "id": "cea71318",
   "metadata": {},
   "outputs": [
    {
     "data": {
      "text/plain": [
       "(185950, 10)"
      ]
     },
     "execution_count": 6,
     "metadata": {},
     "output_type": "execute_result"
    }
   ],
   "source": [
    "df.shape"
   ]
  },
  {
   "cell_type": "markdown",
   "id": "5002d81b",
   "metadata": {},
   "source": [
    "####  Dataset consists of 185686 rows and 10 columns"
   ]
  },
  {
   "cell_type": "markdown",
   "id": "d1672f12",
   "metadata": {},
   "source": [
    "### Information about the data"
   ]
  },
  {
   "cell_type": "code",
   "execution_count": 7,
   "id": "7cec7240",
   "metadata": {},
   "outputs": [
    {
     "name": "stdout",
     "output_type": "stream",
     "text": [
      "<class 'pandas.core.frame.DataFrame'>\n",
      "RangeIndex: 185950 entries, 0 to 185949\n",
      "Data columns (total 10 columns):\n",
      " #   Column            Non-Null Count   Dtype  \n",
      "---  ------            --------------   -----  \n",
      " 0   Order ID          185950 non-null  int64  \n",
      " 1   Product           185950 non-null  object \n",
      " 2   Quantity Ordered  185950 non-null  int64  \n",
      " 3   Price Each        185950 non-null  float64\n",
      " 4   Order Date        185950 non-null  object \n",
      " 5   Purchase Address  185950 non-null  object \n",
      " 6   Month             185950 non-null  int64  \n",
      " 7   Sales             185950 non-null  float64\n",
      " 8   City              185950 non-null  object \n",
      " 9   Hour              185950 non-null  int64  \n",
      "dtypes: float64(2), int64(4), object(4)\n",
      "memory usage: 14.2+ MB\n"
     ]
    }
   ],
   "source": [
    "df.info()"
   ]
  },
  {
   "cell_type": "markdown",
   "id": "68c4e390",
   "metadata": {},
   "source": [
    "### Summary of data"
   ]
  },
  {
   "cell_type": "code",
   "execution_count": 8,
   "id": "650dc548",
   "metadata": {},
   "outputs": [
    {
     "data": {
      "text/html": [
       "<div>\n",
       "<style scoped>\n",
       "    .dataframe tbody tr th:only-of-type {\n",
       "        vertical-align: middle;\n",
       "    }\n",
       "\n",
       "    .dataframe tbody tr th {\n",
       "        vertical-align: top;\n",
       "    }\n",
       "\n",
       "    .dataframe thead th {\n",
       "        text-align: right;\n",
       "    }\n",
       "</style>\n",
       "<table border=\"1\" class=\"dataframe\">\n",
       "  <thead>\n",
       "    <tr style=\"text-align: right;\">\n",
       "      <th></th>\n",
       "      <th>count</th>\n",
       "      <th>mean</th>\n",
       "      <th>std</th>\n",
       "      <th>min</th>\n",
       "      <th>25%</th>\n",
       "      <th>50%</th>\n",
       "      <th>75%</th>\n",
       "      <th>max</th>\n",
       "    </tr>\n",
       "  </thead>\n",
       "  <tbody>\n",
       "    <tr>\n",
       "      <th>Order ID</th>\n",
       "      <td>185950.0</td>\n",
       "      <td>230417.569379</td>\n",
       "      <td>51512.737110</td>\n",
       "      <td>141234.00</td>\n",
       "      <td>185831.25</td>\n",
       "      <td>230367.50</td>\n",
       "      <td>275035.75</td>\n",
       "      <td>319670.0</td>\n",
       "    </tr>\n",
       "    <tr>\n",
       "      <th>Quantity Ordered</th>\n",
       "      <td>185950.0</td>\n",
       "      <td>1.124383</td>\n",
       "      <td>0.442793</td>\n",
       "      <td>1.00</td>\n",
       "      <td>1.00</td>\n",
       "      <td>1.00</td>\n",
       "      <td>1.00</td>\n",
       "      <td>9.0</td>\n",
       "    </tr>\n",
       "    <tr>\n",
       "      <th>Price Each</th>\n",
       "      <td>185950.0</td>\n",
       "      <td>184.399735</td>\n",
       "      <td>332.731330</td>\n",
       "      <td>2.99</td>\n",
       "      <td>11.95</td>\n",
       "      <td>14.95</td>\n",
       "      <td>150.00</td>\n",
       "      <td>1700.0</td>\n",
       "    </tr>\n",
       "    <tr>\n",
       "      <th>Month</th>\n",
       "      <td>185950.0</td>\n",
       "      <td>7.059140</td>\n",
       "      <td>3.502996</td>\n",
       "      <td>1.00</td>\n",
       "      <td>4.00</td>\n",
       "      <td>7.00</td>\n",
       "      <td>10.00</td>\n",
       "      <td>12.0</td>\n",
       "    </tr>\n",
       "    <tr>\n",
       "      <th>Sales</th>\n",
       "      <td>185950.0</td>\n",
       "      <td>185.490917</td>\n",
       "      <td>332.919771</td>\n",
       "      <td>2.99</td>\n",
       "      <td>11.95</td>\n",
       "      <td>14.95</td>\n",
       "      <td>150.00</td>\n",
       "      <td>3400.0</td>\n",
       "    </tr>\n",
       "    <tr>\n",
       "      <th>Hour</th>\n",
       "      <td>185950.0</td>\n",
       "      <td>14.413305</td>\n",
       "      <td>5.423416</td>\n",
       "      <td>0.00</td>\n",
       "      <td>11.00</td>\n",
       "      <td>15.00</td>\n",
       "      <td>19.00</td>\n",
       "      <td>23.0</td>\n",
       "    </tr>\n",
       "  </tbody>\n",
       "</table>\n",
       "</div>"
      ],
      "text/plain": [
       "                     count           mean           std        min        25%  \\\n",
       "Order ID          185950.0  230417.569379  51512.737110  141234.00  185831.25   \n",
       "Quantity Ordered  185950.0       1.124383      0.442793       1.00       1.00   \n",
       "Price Each        185950.0     184.399735    332.731330       2.99      11.95   \n",
       "Month             185950.0       7.059140      3.502996       1.00       4.00   \n",
       "Sales             185950.0     185.490917    332.919771       2.99      11.95   \n",
       "Hour              185950.0      14.413305      5.423416       0.00      11.00   \n",
       "\n",
       "                        50%        75%       max  \n",
       "Order ID          230367.50  275035.75  319670.0  \n",
       "Quantity Ordered       1.00       1.00       9.0  \n",
       "Price Each            14.95     150.00    1700.0  \n",
       "Month                  7.00      10.00      12.0  \n",
       "Sales                 14.95     150.00    3400.0  \n",
       "Hour                  15.00      19.00      23.0  "
      ]
     },
     "execution_count": 8,
     "metadata": {},
     "output_type": "execute_result"
    }
   ],
   "source": [
    "df.describe().T"
   ]
  },
  {
   "cell_type": "markdown",
   "id": "ec7c5918",
   "metadata": {},
   "source": [
    "### To check for missing values"
   ]
  },
  {
   "cell_type": "code",
   "execution_count": 9,
   "id": "ffd40cf4",
   "metadata": {},
   "outputs": [
    {
     "data": {
      "text/plain": [
       "Order ID            0\n",
       "Product             0\n",
       "Quantity Ordered    0\n",
       "Price Each          0\n",
       "Order Date          0\n",
       "Purchase Address    0\n",
       "Month               0\n",
       "Sales               0\n",
       "City                0\n",
       "Hour                0\n",
       "dtype: int64"
      ]
     },
     "execution_count": 9,
     "metadata": {},
     "output_type": "execute_result"
    }
   ],
   "source": [
    "df.isnull().sum()"
   ]
  },
  {
   "cell_type": "markdown",
   "id": "9aec0275",
   "metadata": {},
   "source": [
    "###### Conclusion: No missing values"
   ]
  },
  {
   "cell_type": "markdown",
   "id": "55152b54",
   "metadata": {},
   "source": [
    "### To check for duplicates"
   ]
  },
  {
   "cell_type": "code",
   "execution_count": 10,
   "id": "178cdbfd",
   "metadata": {},
   "outputs": [
    {
     "data": {
      "text/plain": [
       "False    185686\n",
       "True        264\n",
       "dtype: int64"
      ]
     },
     "execution_count": 10,
     "metadata": {},
     "output_type": "execute_result"
    }
   ],
   "source": [
    "df.duplicated().value_counts()"
   ]
  },
  {
   "cell_type": "markdown",
   "id": "0d7a1770",
   "metadata": {},
   "source": [
    "#### Remove the duplicates"
   ]
  },
  {
   "cell_type": "code",
   "execution_count": 11,
   "id": "b3042fea",
   "metadata": {},
   "outputs": [],
   "source": [
    "df.drop_duplicates(inplace=True)"
   ]
  },
  {
   "cell_type": "code",
   "execution_count": 12,
   "id": "7f7674a1",
   "metadata": {},
   "outputs": [
    {
     "data": {
      "text/plain": [
       "False    185686\n",
       "dtype: int64"
      ]
     },
     "execution_count": 12,
     "metadata": {},
     "output_type": "execute_result"
    }
   ],
   "source": [
    "df.duplicated().value_counts()"
   ]
  },
  {
   "cell_type": "markdown",
   "id": "8780d8d1",
   "metadata": {},
   "source": [
    "## DATA CLEANING"
   ]
  },
  {
   "cell_type": "code",
   "execution_count": 13,
   "id": "b6dbc16c",
   "metadata": {},
   "outputs": [
    {
     "data": {
      "text/html": [
       "<div>\n",
       "<style scoped>\n",
       "    .dataframe tbody tr th:only-of-type {\n",
       "        vertical-align: middle;\n",
       "    }\n",
       "\n",
       "    .dataframe tbody tr th {\n",
       "        vertical-align: top;\n",
       "    }\n",
       "\n",
       "    .dataframe thead th {\n",
       "        text-align: right;\n",
       "    }\n",
       "</style>\n",
       "<table border=\"1\" class=\"dataframe\">\n",
       "  <thead>\n",
       "    <tr style=\"text-align: right;\">\n",
       "      <th></th>\n",
       "      <th>Order ID</th>\n",
       "      <th>Product</th>\n",
       "      <th>Quantity Ordered</th>\n",
       "      <th>Price Each</th>\n",
       "      <th>Order Date</th>\n",
       "      <th>Purchase Address</th>\n",
       "      <th>Month</th>\n",
       "      <th>Sales</th>\n",
       "      <th>City</th>\n",
       "      <th>Hour</th>\n",
       "    </tr>\n",
       "  </thead>\n",
       "  <tbody>\n",
       "    <tr>\n",
       "      <th>129921</th>\n",
       "      <td>272214</td>\n",
       "      <td>Lightning Charging Cable</td>\n",
       "      <td>1</td>\n",
       "      <td>14.95</td>\n",
       "      <td>2019-10-13 20:53:00</td>\n",
       "      <td>614 12th St, Los Angeles, CA 90001</td>\n",
       "      <td>10</td>\n",
       "      <td>14.95</td>\n",
       "      <td>Los Angeles</td>\n",
       "      <td>20</td>\n",
       "    </tr>\n",
       "    <tr>\n",
       "      <th>150127</th>\n",
       "      <td>251671</td>\n",
       "      <td>Bose SoundSport Headphones</td>\n",
       "      <td>1</td>\n",
       "      <td>99.99</td>\n",
       "      <td>2019-09-18 13:28:00</td>\n",
       "      <td>249 Pine St, San Francisco, CA 94016</td>\n",
       "      <td>9</td>\n",
       "      <td>99.99</td>\n",
       "      <td>San Francisco</td>\n",
       "      <td>13</td>\n",
       "    </tr>\n",
       "  </tbody>\n",
       "</table>\n",
       "</div>"
      ],
      "text/plain": [
       "        Order ID                     Product  Quantity Ordered  Price Each  \\\n",
       "129921    272214    Lightning Charging Cable                 1       14.95   \n",
       "150127    251671  Bose SoundSport Headphones                 1       99.99   \n",
       "\n",
       "                 Order Date                      Purchase Address  Month  \\\n",
       "129921  2019-10-13 20:53:00    614 12th St, Los Angeles, CA 90001     10   \n",
       "150127  2019-09-18 13:28:00  249 Pine St, San Francisco, CA 94016      9   \n",
       "\n",
       "        Sales            City  Hour  \n",
       "129921  14.95     Los Angeles    20  \n",
       "150127  99.99   San Francisco    13  "
      ]
     },
     "execution_count": 13,
     "metadata": {},
     "output_type": "execute_result"
    }
   ],
   "source": [
    "df.sample(2)"
   ]
  },
  {
   "cell_type": "code",
   "execution_count": 14,
   "id": "4e3c95c9",
   "metadata": {},
   "outputs": [
    {
     "data": {
      "text/plain": [
       "2019-12-15 20:16:00    8\n",
       "2019-10-30 21:28:00    7\n",
       "2019-04-02 13:24:00    7\n",
       "2019-12-11 13:24:00    7\n",
       "2019-02-06 11:14:00    6\n",
       "                      ..\n",
       "2019-08-31 17:07:00    1\n",
       "2019-08-21 10:23:00    1\n",
       "2019-08-04 13:02:00    1\n",
       "2019-08-02 19:09:00    1\n",
       "2019-06-25 14:33:00    1\n",
       "Name: Order Date, Length: 142395, dtype: int64"
      ]
     },
     "execution_count": 14,
     "metadata": {},
     "output_type": "execute_result"
    }
   ],
   "source": [
    "df[\"Order Date\"].value_counts()"
   ]
  },
  {
   "cell_type": "markdown",
   "id": "9817283d",
   "metadata": {},
   "source": [
    "* year is unique and distinct no need to extract year from the order date column \n",
    "* can extract the date and month"
   ]
  },
  {
   "cell_type": "markdown",
   "id": "8029bb40",
   "metadata": {},
   "source": [
    "#### Convert the data type of order date from int 64 to date time"
   ]
  },
  {
   "cell_type": "code",
   "execution_count": 15,
   "id": "dc83bfbc",
   "metadata": {},
   "outputs": [],
   "source": [
    "df[\"Order Date\"]=pd.to_datetime(df[\"Order Date\"])"
   ]
  },
  {
   "cell_type": "code",
   "execution_count": 16,
   "id": "b200a227",
   "metadata": {},
   "outputs": [],
   "source": [
    "df[\"date\"]=df[\"Order Date\"].dt.day"
   ]
  },
  {
   "cell_type": "code",
   "execution_count": 17,
   "id": "2fa256bd",
   "metadata": {},
   "outputs": [
    {
     "data": {
      "text/plain": [
       "72497    27\n",
       "97251    30\n",
       "14265     1\n",
       "52014    22\n",
       "4210     20\n",
       "Name: date, dtype: int64"
      ]
     },
     "execution_count": 17,
     "metadata": {},
     "output_type": "execute_result"
    }
   ],
   "source": [
    "df[\"date\"].sample(5)"
   ]
  },
  {
   "cell_type": "code",
   "execution_count": 18,
   "id": "d8c86bfc",
   "metadata": {},
   "outputs": [],
   "source": [
    "df[\"month\"]=df[\"Order Date\"].dt.month_name()"
   ]
  },
  {
   "cell_type": "code",
   "execution_count": 19,
   "id": "f70e6dd7",
   "metadata": {},
   "outputs": [
    {
     "data": {
      "text/plain": [
       "109296     November\n",
       "60190         March\n",
       "92697           May\n",
       "154559    September\n",
       "123745      October\n",
       "Name: month, dtype: object"
      ]
     },
     "execution_count": 19,
     "metadata": {},
     "output_type": "execute_result"
    }
   ],
   "source": [
    "df[\"month\"].sample(5)"
   ]
  },
  {
   "cell_type": "code",
   "execution_count": 20,
   "id": "a451b16d",
   "metadata": {},
   "outputs": [
    {
     "data": {
      "text/plain": [
       "USB-C Charging Cable          21859\n",
       "Lightning Charging Cable      21610\n",
       "AAA Batteries (4-pack)        20612\n",
       "AA Batteries (4-pack)         20558\n",
       "Wired Headphones              18849\n",
       "Apple Airpods Headphones      15525\n",
       "Bose SoundSport Headphones    13298\n",
       "27in FHD Monitor               7498\n",
       "iPhone                         6840\n",
       "27in 4K Gaming Monitor         6225\n",
       "34in Ultrawide Monitor         6174\n",
       "Google Phone                   5522\n",
       "Flatscreen TV                  4794\n",
       "Macbook Pro Laptop             4721\n",
       "ThinkPad Laptop                4126\n",
       "20in Monitor                   4098\n",
       "Vareebadd Phone                2065\n",
       "LG Washing Machine              666\n",
       "LG Dryer                        646\n",
       "Name: Product, dtype: int64"
      ]
     },
     "execution_count": 20,
     "metadata": {},
     "output_type": "execute_result"
    }
   ],
   "source": [
    "df[\"Product\"].value_counts()"
   ]
  },
  {
   "cell_type": "code",
   "execution_count": 21,
   "id": "a06ad465",
   "metadata": {},
   "outputs": [
    {
     "data": {
      "text/plain": [
       " San Francisco    44662\n",
       " Los Angeles      29564\n",
       " New York City    24847\n",
       " Boston           19901\n",
       " Atlanta          14863\n",
       " Dallas           14797\n",
       " Seattle          14713\n",
       " Portland         12449\n",
       " Austin            9890\n",
       "Name: City, dtype: int64"
      ]
     },
     "execution_count": 21,
     "metadata": {},
     "output_type": "execute_result"
    }
   ],
   "source": [
    "df[\"City\"].value_counts()"
   ]
  },
  {
   "cell_type": "markdown",
   "id": "443b99b8",
   "metadata": {},
   "source": [
    "### Creating quarter column based on month "
   ]
  },
  {
   "cell_type": "code",
   "execution_count": 22,
   "id": "2098e542",
   "metadata": {},
   "outputs": [],
   "source": [
    "def func_quar(var):\n",
    "    if var in [1,2,3]:\n",
    "        return \"Qtr1\"\n",
    "    elif var in [4,5,6]:\n",
    "        return \"Qtr2\"\n",
    "    elif var in [7,8,9]:\n",
    "        return \"Qtr3\"\n",
    "    else:\n",
    "        return \"Qtr4\"\n",
    "df[\"Quarter\"]=np.vectorize(func_quar)(df[\"Month\"])"
   ]
  },
  {
   "cell_type": "code",
   "execution_count": 23,
   "id": "46f716db",
   "metadata": {},
   "outputs": [
    {
     "data": {
      "text/html": [
       "<div>\n",
       "<style scoped>\n",
       "    .dataframe tbody tr th:only-of-type {\n",
       "        vertical-align: middle;\n",
       "    }\n",
       "\n",
       "    .dataframe tbody tr th {\n",
       "        vertical-align: top;\n",
       "    }\n",
       "\n",
       "    .dataframe thead th {\n",
       "        text-align: right;\n",
       "    }\n",
       "</style>\n",
       "<table border=\"1\" class=\"dataframe\">\n",
       "  <thead>\n",
       "    <tr style=\"text-align: right;\">\n",
       "      <th></th>\n",
       "      <th>Order ID</th>\n",
       "      <th>Product</th>\n",
       "      <th>Quantity Ordered</th>\n",
       "      <th>Price Each</th>\n",
       "      <th>Order Date</th>\n",
       "      <th>Purchase Address</th>\n",
       "      <th>Month</th>\n",
       "      <th>Sales</th>\n",
       "      <th>City</th>\n",
       "      <th>Hour</th>\n",
       "      <th>date</th>\n",
       "      <th>month</th>\n",
       "      <th>Quarter</th>\n",
       "    </tr>\n",
       "  </thead>\n",
       "  <tbody>\n",
       "    <tr>\n",
       "      <th>67631</th>\n",
       "      <td>173871</td>\n",
       "      <td>USB-C Charging Cable</td>\n",
       "      <td>1</td>\n",
       "      <td>11.95</td>\n",
       "      <td>2019-03-30 10:49:00</td>\n",
       "      <td>797 Walnut St, Boston, MA 02215</td>\n",
       "      <td>3</td>\n",
       "      <td>11.95</td>\n",
       "      <td>Boston</td>\n",
       "      <td>10</td>\n",
       "      <td>30</td>\n",
       "      <td>March</td>\n",
       "      <td>Qtr1</td>\n",
       "    </tr>\n",
       "  </tbody>\n",
       "</table>\n",
       "</div>"
      ],
      "text/plain": [
       "       Order ID               Product  Quantity Ordered  Price Each  \\\n",
       "67631    173871  USB-C Charging Cable                 1       11.95   \n",
       "\n",
       "               Order Date                 Purchase Address  Month  Sales  \\\n",
       "67631 2019-03-30 10:49:00  797 Walnut St, Boston, MA 02215      3  11.95   \n",
       "\n",
       "          City  Hour  date  month Quarter  \n",
       "67631   Boston    10    30  March    Qtr1  "
      ]
     },
     "execution_count": 23,
     "metadata": {},
     "output_type": "execute_result"
    }
   ],
   "source": [
    "df.sample()"
   ]
  },
  {
   "cell_type": "markdown",
   "id": "153d4d68",
   "metadata": {},
   "source": [
    "### Creation of time range based on hour column"
   ]
  },
  {
   "cell_type": "code",
   "execution_count": 24,
   "id": "123cad3a",
   "metadata": {},
   "outputs": [],
   "source": [
    "def func_time(hour):\n",
    "    if hour in range(3,7):\n",
    "        return \"early morning\"\n",
    "    elif hour in range(7,12):\n",
    "        return \"morning\"\n",
    "    elif hour in range(12,16):\n",
    "        return \"afternoon\"\n",
    "    elif hour in range(16,20):\n",
    "        return \"evening\"\n",
    "    else:\n",
    "        return \"night\"\n",
    "df[\"time-range\"]=np.vectorize(func_time)(df[\"Hour\"])"
   ]
  },
  {
   "cell_type": "code",
   "execution_count": 25,
   "id": "fcb49610",
   "metadata": {},
   "outputs": [
    {
     "data": {
      "text/html": [
       "<div>\n",
       "<style scoped>\n",
       "    .dataframe tbody tr th:only-of-type {\n",
       "        vertical-align: middle;\n",
       "    }\n",
       "\n",
       "    .dataframe tbody tr th {\n",
       "        vertical-align: top;\n",
       "    }\n",
       "\n",
       "    .dataframe thead th {\n",
       "        text-align: right;\n",
       "    }\n",
       "</style>\n",
       "<table border=\"1\" class=\"dataframe\">\n",
       "  <thead>\n",
       "    <tr style=\"text-align: right;\">\n",
       "      <th></th>\n",
       "      <th>Order ID</th>\n",
       "      <th>Product</th>\n",
       "      <th>Quantity Ordered</th>\n",
       "      <th>Price Each</th>\n",
       "      <th>Order Date</th>\n",
       "      <th>Purchase Address</th>\n",
       "      <th>Month</th>\n",
       "      <th>Sales</th>\n",
       "      <th>City</th>\n",
       "      <th>Hour</th>\n",
       "      <th>date</th>\n",
       "      <th>month</th>\n",
       "      <th>Quarter</th>\n",
       "      <th>time-range</th>\n",
       "    </tr>\n",
       "  </thead>\n",
       "  <tbody>\n",
       "    <tr>\n",
       "      <th>61733</th>\n",
       "      <td>168212</td>\n",
       "      <td>AA Batteries (4-pack)</td>\n",
       "      <td>1</td>\n",
       "      <td>3.84</td>\n",
       "      <td>2019-03-03 10:43:00</td>\n",
       "      <td>175 10th St, Dallas, TX 75001</td>\n",
       "      <td>3</td>\n",
       "      <td>3.84</td>\n",
       "      <td>Dallas</td>\n",
       "      <td>10</td>\n",
       "      <td>3</td>\n",
       "      <td>March</td>\n",
       "      <td>Qtr1</td>\n",
       "      <td>morning</td>\n",
       "    </tr>\n",
       "  </tbody>\n",
       "</table>\n",
       "</div>"
      ],
      "text/plain": [
       "       Order ID                Product  Quantity Ordered  Price Each  \\\n",
       "61733    168212  AA Batteries (4-pack)                 1        3.84   \n",
       "\n",
       "               Order Date               Purchase Address  Month  Sales  \\\n",
       "61733 2019-03-03 10:43:00  175 10th St, Dallas, TX 75001      3   3.84   \n",
       "\n",
       "          City  Hour  date  month Quarter time-range  \n",
       "61733   Dallas    10     3  March    Qtr1    morning  "
      ]
     },
     "execution_count": 25,
     "metadata": {},
     "output_type": "execute_result"
    }
   ],
   "source": [
    "df.sample()"
   ]
  },
  {
   "cell_type": "markdown",
   "id": "aae9b9bf",
   "metadata": {},
   "source": [
    "## Assignment:"
   ]
  },
  {
   "cell_type": "markdown",
   "id": "414037d6",
   "metadata": {},
   "source": [
    "#### Create a dash application that must show top 5 products (bar chart)\n",
    "* dropdown : options like on what basis (month,quarter,time_range)\n",
    "* Checkbox: City names "
   ]
  },
  {
   "cell_type": "markdown",
   "id": "05fe62f1",
   "metadata": {},
   "source": [
    "#### Importing the necessary Libraries"
   ]
  },
  {
   "cell_type": "code",
   "execution_count": 26,
   "id": "64e1a5c2",
   "metadata": {},
   "outputs": [],
   "source": [
    "import numpy as np\n",
    "import pandas as pd\n",
    "import matplotlib.pyplot as plt\n",
    "import seaborn as sns\n",
    "import plotly.express as px\n",
    "from dash import Dash,html,dcc\n",
    "from dash.dependencies import Input,Output"
   ]
  },
  {
   "cell_type": "code",
   "execution_count": 41,
   "id": "dc92d969",
   "metadata": {},
   "outputs": [
    {
     "data": {
      "text/html": [
       "\n",
       "        <iframe\n",
       "            width=\"100%\"\n",
       "            height=\"650\"\n",
       "            src=\"http://127.0.0.1:8050/\"\n",
       "            frameborder=\"0\"\n",
       "            allowfullscreen\n",
       "            \n",
       "        ></iframe>\n",
       "        "
      ],
      "text/plain": [
       "<IPython.lib.display.IFrame at 0x19dc06cc2e0>"
      ]
     },
     "metadata": {},
     "output_type": "display_data"
    }
   ],
   "source": [
    "app=Dash(__name__)\n",
    "app.layout=html.Div(style={\"backgroundColor\":\"white\",\"color\":\"black\",\"margin\":\"20px\"},\n",
    "                    children=[html.H2(\"Sales analysis using Plotly\",\n",
    "                                     style={\"padding\":\"20px\",\n",
    "                                           \"backgroundColor\":\"darkcyan\",\"color\":\"white\",\"text-align\":\"center\",\n",
    "                                           \"border-radius\":\"5px\"}),\n",
    "                             html.Div(\n",
    "                             [   html.H2(id=\"title\",style={\"color\":\"grey\"}),\n",
    "                                 html.H3(\"Select One\",style={\"color\":\"darkcyan\"}),\n",
    "                                 dcc.Dropdown(options=[\"time-range\",\"month\",\"Quarter\"],\n",
    "                                              value=\"month\",\n",
    "                                             style={\"color\":\"darkcyan\",\"width\":\"700px\",\n",
    "                                                    \"border-color\":\"lightgrey\"\n",
    "                                                   },id=\"dd\"),\n",
    "                                 dcc.RadioItems(options=[\"ascending\",\"descending\"],inline=True,id=\"ri\",\n",
    "                                               inputStyle={\"margin\":\"10px\"}),\n",
    "                                 dcc.Checklist(options={city:city for city in df[\"City\"]},\n",
    "                                              style={\"backgroundColor\":\"white\",\"margin-top\":\"10px\",\n",
    "                                                     \"line-height\":\"5px\",\"color\":\"darkcyan\",\n",
    "                                                    \"border-style\":\"solid\",\"border-color\":\"lightgrey\",\n",
    "                                                     \"width\":\"200px\",\"float\":\"left\",\n",
    "                                                    \"border-radius\":\"5px\"},\n",
    "                                              inputStyle={'margin-bottom': '25px'},id=\"ch\"),\n",
    "                               \n",
    "                             ]),\n",
    "                            dcc.Graph(id=\"fig\",\n",
    "                                      style={\"float\":\"right\"})\n",
    "                             ])\n",
    "@app.callback(\n",
    "    Output(\"title\", \"children\"),\n",
    "    Input(\"dd\", \"value\")\n",
    ")\n",
    "def func_title(var):\n",
    "    return f\"Top 5 products based on {var}\"\n",
    "\n",
    "@app.callback(\n",
    "    Output(\"fig\", \"figure\"),\n",
    "    Input(\"dd\", \"value\"),\n",
    "    Input(\"ri\", \"value\"),\n",
    "    Input(\"ch\", \"value\")\n",
    ")\n",
    "def func_plot(var1, var2, var3):\n",
    "    if not isinstance(var3, list):\n",
    "        cities = [var3]\n",
    "    else:\n",
    "        cities = var3\n",
    "    filtered_df = df[df[\"City\"].isin(cities)]\n",
    "    fil_df = filtered_df.groupby([var1, \"Product\"], as_index=False).sum().head(5)\n",
    "    if var2 == \"ascending\":\n",
    "        var2 = True\n",
    "    else:\n",
    "        var2 = False\n",
    "    arr_df = fil_df.sort_values(by=\"Sales\", ascending=var2)\n",
    "    fig = px.bar(arr_df, x=\"Product\", y=\"Sales\")\n",
    "    fig.update_layout(paper_bgcolor=\"white\",plot_bgcolor=\"darkcyan\")\n",
    "    fig.update_xaxes(showgrid=False,title_font={\"color\":\"darkcyan\"},tickangle=90)\n",
    "    fig.update_yaxes(showgrid=False,title_font={\"color\":\"darkcyan\"})\n",
    "    fig.update_traces(marker={\"color\":\"lightgray\"},\n",
    "                     )\n",
    "    return fig\n",
    "\n",
    "if __name__ == \"__main__\":\n",
    "    app.run_server(mode=\"inline\")"
   ]
  },
  {
   "cell_type": "code",
   "execution_count": null,
   "id": "f12c3739",
   "metadata": {},
   "outputs": [],
   "source": []
  }
 ],
 "metadata": {
  "kernelspec": {
   "display_name": "Python 3 (ipykernel)",
   "language": "python",
   "name": "python3"
  },
  "language_info": {
   "codemirror_mode": {
    "name": "ipython",
    "version": 3
   },
   "file_extension": ".py",
   "mimetype": "text/x-python",
   "name": "python",
   "nbconvert_exporter": "python",
   "pygments_lexer": "ipython3",
   "version": "3.9.13"
  }
 },
 "nbformat": 4,
 "nbformat_minor": 5
}
